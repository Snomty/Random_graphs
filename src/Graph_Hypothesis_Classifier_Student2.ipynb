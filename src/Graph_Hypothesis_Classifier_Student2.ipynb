{
 "cells": [
  {
   "cell_type": "code",
   "execution_count": 1,
   "id": "fe82c291",
   "metadata": {},
   "outputs": [],
   "source": [
    "from sklearn.model_selection import train_test_split\n",
    "from sklearn.linear_model import LogisticRegression\n",
    "from sklearn.preprocessing import StandardScaler\n",
    "from sklearn.linear_model import LinearRegression, Ridge, Lasso\n",
    "from sklearn.metrics import precision_score as precision, recall_score as recall, accuracy_score as accuracy\n",
    "from sklearn.ensemble import BaggingClassifier, RandomForestClassifier\n",
    "from sklearn.tree import DecisionTreeClassifier\n",
    "import os\n",
    "\n",
    "\n",
    "from graph import *\n",
    "from graph_characteristic import *\n",
    "from graph_simulate_statistics import *"
   ]
  },
  {
   "cell_type": "markdown",
   "id": "ecebf950",
   "metadata": {},
   "source": [
    "# **Нагенерируем датасетиков для разных размеров выборок**"
   ]
  },
  {
   "cell_type": "code",
   "execution_count": 4,
   "id": "aeb22204",
   "metadata": {},
   "outputs": [
    {
     "name": "stderr",
     "output_type": "stream",
     "text": [
      "100%|██████████| 5000/5000 [00:15<00:00, 327.55it/s] \n"
     ]
    }
   ],
   "source": [
    "df_25 = generate_dataset(gen_gamma_points, gen_weibull_points, dataset_size=10000, num_vertex=25)\n",
    "df_25.to_csv(os.path.join('..', 'data', 'df_25_vert_Student2.csv'), index=False)"
   ]
  },
  {
   "cell_type": "code",
   "execution_count": 5,
   "id": "6872f7f2",
   "metadata": {},
   "outputs": [
    {
     "name": "stderr",
     "output_type": "stream",
     "text": [
      "100%|██████████| 5000/5000 [06:17<00:00, 13.25it/s]\n"
     ]
    }
   ],
   "source": [
    "df_100 = generate_dataset(gen_gamma_points, gen_weibull_points, dataset_size=10000, num_vertex=100)\n",
    "df_100.to_csv(os.path.join('..', 'data', 'df_100_vert_Student2.csv'), index=False)"
   ]
  },
  {
   "cell_type": "code",
   "execution_count": 6,
   "id": "cab44caf",
   "metadata": {},
   "outputs": [
    {
     "name": "stderr",
     "output_type": "stream",
     "text": [
      "100%|██████████| 5000/5000 [8:26:38<00:00,  6.08s/it]    \n"
     ]
    }
   ],
   "source": [
    "df_500 = generate_dataset(gen_gamma_points, gen_weibull_points, dataset_size=10000, num_vertex=500)\n",
    "df_500.to_csv(os.path.join('..', 'data', 'df_500_vert_Student2.csv'), index=False)"
   ]
  },
  {
   "cell_type": "markdown",
   "id": "a70ecf54",
   "metadata": {},
   "source": [
    "# **Поехали обучать**"
   ]
  },
  {
   "cell_type": "code",
   "execution_count": 7,
   "id": "a0ca4394",
   "metadata": {},
   "outputs": [],
   "source": [
    "df_25 = pd.read_csv(os.path.join('..', 'data', 'df_25_vert_Student2.csv'))\n",
    "df_100 = pd.read_csv(os.path.join('..', 'data', 'df_100_vert_Student2.csv'))\n",
    "df_500 = pd.read_csv(os.path.join('..', 'data', 'df_500_vert_Student2.csv'))"
   ]
  },
  {
   "cell_type": "markdown",
   "id": "78d3b1af",
   "metadata": {},
   "source": [
    "## **Базовые линейные модели**"
   ]
  },
  {
   "cell_type": "code",
   "execution_count": 8,
   "id": "60a16fc0",
   "metadata": {},
   "outputs": [
    {
     "name": "stdout",
     "output_type": "stream",
     "text": [
      "N = 25\n",
      "\tLogistic\n",
      "\t\tPrecision: 0.8071476736345247\n",
      "\t\tAccuracy: 0.8036666666666666\n",
      "\t\tRecall: 0.798 \n",
      "\n",
      "\tLinear\n",
      "\t\tPrecision: 0.8426132145508537\n",
      "\t\tAccuracy: 0.8076666666666666\n",
      "\t\trecall: 0.7566666666666667 \n",
      "\n",
      "\tRidge\n",
      "\t\tPrecision: 0.8426132145508537\n",
      "\t\tAccuracy: 0.8076666666666666\n",
      "\t\trecall: 0.7566666666666667 \n",
      "\n",
      "N = 100\n",
      "\tLogistic\n",
      "\t\tPrecision: 0.9699599465954606\n",
      "\t\tAccuracy: 0.9693333333333334\n",
      "\t\tRecall: 0.9686666666666667 \n",
      "\n",
      "\tLinear\n",
      "\t\tPrecision: 0.9907473309608541\n",
      "\t\tAccuracy: 0.9596666666666667\n",
      "\t\trecall: 0.928 \n",
      "\n",
      "\tRidge\n",
      "\t\tPrecision: 0.9907473309608541\n",
      "\t\tAccuracy: 0.9596666666666667\n",
      "\t\trecall: 0.928 \n",
      "\n",
      "N = 500\n",
      "\tLogistic\n",
      "\t\tPrecision: 1.0\n",
      "\t\tAccuracy: 0.9993333333333333\n",
      "\t\tRecall: 0.9986666666666667 \n",
      "\n",
      "\tLinear\n",
      "\t\tPrecision: 1.0\n",
      "\t\tAccuracy: 0.9993333333333333\n",
      "\t\trecall: 0.9986666666666667 \n",
      "\n",
      "\tRidge\n",
      "\t\tPrecision: 1.0\n",
      "\t\tAccuracy: 0.9993333333333333\n",
      "\t\trecall: 0.9986666666666667 \n",
      "\n"
     ]
    }
   ],
   "source": [
    "for n, df in zip([25, 100, 500], [df_25, df_100, df_500]):\n",
    "    X, y = df.drop('distribution', axis = 1), df['distribution']\n",
    "    X_train, X_test, y_train, y_test = train_test_split(X, y, test_size=0.3, random_state=239, stratify=y)\n",
    "\n",
    "    scaler = StandardScaler()\n",
    "    X_train_scaled = scaler.fit_transform(X_train)\n",
    "    X_test_scaled = scaler.transform(X_test)\n",
    "\n",
    "    model = LogisticRegression(max_iter=1000, class_weight='balanced')\n",
    "    model.fit(X_train_scaled, y_train)\n",
    "    y_pred_logistic = model.predict(X_test_scaled)\n",
    "\n",
    "\n",
    "    model = LinearRegression()\n",
    "    model.fit(X_train_scaled, y_train)\n",
    "    y_pred_linear = (model.predict(X_test_scaled) > 0.5).astype(int)\n",
    "\n",
    "\n",
    "    model = Ridge()\n",
    "    model.fit(X_train_scaled, y_train)\n",
    "    y_pred_ridge = (model.predict(X_test_scaled) > 0.5).astype(int)\n",
    "\n",
    "    model = Lasso()\n",
    "    model.fit(X_train_scaled, y_train)\n",
    "    y_pred_lasso = (model.predict(X_test_scaled) > 0.5).astype(int)\n",
    "\n",
    "    print(f\"N = {n}\")\n",
    "    print('\\tLogistic')\n",
    "    print(\"\\t\\tPrecision:\", precision(y_test, y_pred_logistic))\n",
    "    print(\"\\t\\tAccuracy:\", accuracy(y_test, y_pred_logistic))\n",
    "    print(\"\\t\\tRecall:\", recall(y_test, y_pred_logistic), \"\\n\")\n",
    "\n",
    "    print('\\tLinear')\n",
    "    print(\"\\t\\tPrecision:\", precision(y_test, y_pred_linear))\n",
    "    print(\"\\t\\tAccuracy:\", accuracy(y_test, y_pred_linear))\n",
    "    print(\"\\t\\trecall:\", recall(y_test, y_pred_linear), \"\\n\")\n",
    "\n",
    "    print('\\tRidge')\n",
    "    print(\"\\t\\tPrecision:\", precision(y_test, y_pred_ridge))\n",
    "    print(\"\\t\\tAccuracy:\", accuracy(y_test, y_pred_ridge))\n",
    "    print(\"\\t\\trecall:\", recall(y_test, y_pred_ridge), \"\\n\")\n",
    "    \n"
   ]
  }
 ],
 "metadata": {
  "kernelspec": {
   "display_name": "Python 3",
   "language": "python",
   "name": "python3"
  },
  "language_info": {
   "codemirror_mode": {
    "name": "ipython",
    "version": 3
   },
   "file_extension": ".py",
   "mimetype": "text/x-python",
   "name": "python",
   "nbconvert_exporter": "python",
   "pygments_lexer": "ipython3",
   "version": "3.10.12"
  }
 },
 "nbformat": 4,
 "nbformat_minor": 5
}
