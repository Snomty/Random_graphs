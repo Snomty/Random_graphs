{
  "nbformat": 4,
  "nbformat_minor": 0,
  "metadata": {
    "colab": {
      "provenance": [],
      "collapsed_sections": [
        "t3himdfp7S_O",
        "rAQ17v5ZGFeT",
        "5yxQlno7BMSY",
        "E5y9nlgWAimo",
        "tgAdQlFBKooo",
        "ip9MFcJ9LyJG",
        "d0UgiRX8MDMf",
        "0dmupAIxLh1u",
        "XHOb98ogTTzQ",
        "9yq2PEKNTYT3",
        "-9GnH8X2Qzln",
        "i_GxtBDGRbXm"
      ]
    },
    "kernelspec": {
      "name": "python3",
      "display_name": "Python 3"
    },
    "language_info": {
      "name": "python"
    }
  },
  "cells": [
    {
      "cell_type": "code",
      "execution_count": 1,
      "metadata": {
        "id": "mAtpajpH_V4u"
      },
      "outputs": [],
      "source": [
        "import numpy as np\n",
        "import matplotlib.pyplot as plt\n",
        "import networkx as nx\n",
        "from tqdm import tqdm\n",
        "from typing import Callable"
      ]
    },
    {
      "cell_type": "markdown",
      "source": [
        "# **TODO**\n",
        "\n",
        "* исправить calculate_maxsize_independed_set():"
      ],
      "metadata": {
        "id": "JP-Cgjo3SZGr"
      }
    },
    {
      "cell_type": "markdown",
      "source": [
        "# **Создадим функции для реализации наших случайных величин**\n",
        "\n",
        "*   Распределение Вейбулла, по умолчанию с параметрами $\\space\\space k = \\frac{1}{2} ,\\space\\space\\space$$\\lambda = \\frac{1}{\\sqrt{10}}$\n",
        "\n",
        "*   Гамма-распределение, по умолчанию с параметрами $\\space\\space k = \\frac{1}{2} ,\\space\\space\\space$$\\lambda = \\frac{1}{\\sqrt{2}}$\n",
        "\n"
      ],
      "metadata": {
        "id": "FsT5olEh_fRU"
      }
    },
    {
      "cell_type": "code",
      "source": [
        "WEIBULL_K_0 = 0.5\n",
        "WEIBULL_LAMBDA_0 = 1 / np.sqrt(10)\n",
        "\n",
        "GAMMA_K_0 = 0.5\n",
        "GAMMA_LAMBDA_0 = 1 / np.sqrt(2)"
      ],
      "metadata": {
        "id": "xGfQhNNphA-E"
      },
      "execution_count": 3,
      "outputs": []
    },
    {
      "cell_type": "code",
      "source": [
        "def gen_weibull_points(num_points: int, k: float = WEIBULL_K_0, lambd: float = WEIBULL_LAMBDA_0) -> np.ndarray[np.float64]:\n",
        "    \"\"\" Возвращает num_points точек сгенерированных по распределению Вейбулла W(k, lambd) \"\"\"\n",
        "    return lambd * np.random.weibull(k, num_points)\n",
        "\n",
        "\n",
        "def gen_gamma_points(num_points: int, k: float = GAMMA_K_0, lambd: float = GAMMA_LAMBDA_0) -> np.ndarray[np.float64]:\n",
        "    \"\"\" Возвращает num_points точек сгенерированных по гамма-распределению Gamm(k, lambd)\"\"\"\n",
        "    return np.random.gamma(k, lambd, num_points)"
      ],
      "metadata": {
        "id": "6T6E9dMWAfwi"
      },
      "execution_count": 4,
      "outputs": []
    },
    {
      "cell_type": "markdown",
      "source": [
        "# **Создадим класс графа для удобного хранения и работы.**"
      ],
      "metadata": {
        "id": "t3himdfp7S_O"
      }
    },
    {
      "cell_type": "markdown",
      "source": [
        "### **Договор про хранение графов**\n",
        "\n",
        "**Граф храним специальным классом с полями:**\n",
        "\n",
        "*   вершины графа храним списком.\n",
        "$V_G = (x_{1}, x_{2}, \\dots, x_{k})$\n",
        "\n",
        "    где $k$ - количество вершин графа, $x_i$ - координата $i$-ой вершины\n",
        "\n",
        "*  ребра графа храним множеством. $E_G = \\{ (a_1, b_1), (a_2, b_2), \\dots\\}$\n",
        "\n",
        "    где $\\space\\space a_i < b_i\\space\\space$ - номера вершин\n",
        "\n",
        "*  Также храним обьект NetworkX.Graph для удобного использования разных алгоритмов на графах\n",
        "\n",
        "**Класс имеет 3 метода - 2 для построение ребер, соответсвующих KNN и Distance графам и 1 для визуализации.**\n"
      ],
      "metadata": {
        "id": "rAQ17v5ZGFeT"
      }
    },
    {
      "cell_type": "code",
      "source": [
        "class Graph:\n",
        "    def __init__(self, points: np.ndarray[float], edges: set[tuple[int, int]] = set()) -> None:\n",
        "        self.V = points\n",
        "        self.E = edges\n",
        "        self.nx_obj = nx.empty_graph(len(points))\n",
        "        self.nx_obj.add_edges_from(edges)\n",
        "\n",
        "\n",
        "    def build_KNN_graph(self, K: int) -> None:\n",
        "        \"\"\" Строит ребра KNN графа \"\"\"\n",
        "        self.E = set()\n",
        "\n",
        "        for idx_1, x_1 in enumerate(self.V):\n",
        "            dist = []\n",
        "            for idx_2, x_2 in enumerate(self.V):\n",
        "                dist.append([np.linalg.norm(x_1 - x_2), idx_2])\n",
        "            for nearest in sorted(dist)[1:K+1]:\n",
        "                self.E.add( (min(idx_1, nearest[1]), max(idx_1, nearest[1])) )\n",
        "\n",
        "        self.nx_obj.clear_edges()\n",
        "        self.nx_obj.add_edges_from(self.E)\n",
        "\n",
        "    def build_dist_graph(self, max_dist: int) -> None:\n",
        "        \"\"\" Строит ребра Distance графа \"\"\"\n",
        "        self.E = set()\n",
        "\n",
        "        for idx_1, x_1 in enumerate(self.V):\n",
        "            dist = []\n",
        "            for idx_2, x_2 in enumerate(self.V):\n",
        "                if (idx_2 <= idx_1):\n",
        "                    continue\n",
        "                if np.linalg.norm(x_1 - x_2) <= max_dist:\n",
        "                    self.E.add( (idx_1, idx_2) )\n",
        "\n",
        "        self.nx_obj.clear_edges()\n",
        "        self.nx_obj.add_edges_from(self.E)\n",
        "\n",
        "    def draw(self) -> None:\n",
        "        \"\"\" Рисует граф \"\"\"\n",
        "        if (len(self.V) == 0):\n",
        "            print(\"Пустой граф.\")\n",
        "            return\n",
        "\n",
        "        for e in self.E:\n",
        "            x1, y1 = self.V[e[0]], e[0]\n",
        "            x2, y2 = self.V[e[1]], e[1]\n",
        "            plt.plot([x1, x2], [y1, y2], 'b-', linewidth=1)\n",
        "        plt.scatter(self.V, range(len(self.V)), color=\"blue\")\n",
        "        plt.title(\"Наш граф\")\n",
        "        plt.xlabel(\"Ее координата\")\n",
        "        plt.ylabel(\"Номер вершины\")"
      ],
      "metadata": {
        "id": "8p8ZcQaLQbwc"
      },
      "execution_count": 5,
      "outputs": []
    },
    {
      "cell_type": "markdown",
      "source": [
        "## Демонстрация работы"
      ],
      "metadata": {
        "id": "5yxQlno7BMSY"
      }
    },
    {
      "cell_type": "markdown",
      "source": [
        "Создадим **Distance** граф с **max_distance=0.15** вершины которого представляют собой реализации\n",
        "\n",
        "случайной величины (в нашем случае с гамма-распределением с параметрами $\\space\\space k = \\frac{1}{2} ,\\space\\space\\space$$\\lambda = \\frac{1}{\\sqrt{2}}$)"
      ],
      "metadata": {
        "id": "iXBF0B56BWz7"
      }
    },
    {
      "cell_type": "code",
      "source": [
        "Distance_Gamma = Graph(points = gen_gamma_points(8))\n",
        "\n",
        "Distance_Gamma.build_dist_graph(max_dist = 0.15)\n",
        "\n",
        "Distance_Gamma.draw()"
      ],
      "metadata": {
        "colab": {
          "base_uri": "https://localhost:8080/",
          "height": 472
        },
        "id": "P_C5NuRa8t7J",
        "outputId": "4f587755-a75c-458b-fe05-de013628c510"
      },
      "execution_count": 11,
      "outputs": [
        {
          "output_type": "display_data",
          "data": {
            "text/plain": [
              "<Figure size 640x480 with 1 Axes>"
            ],
            "image/png": "[encoded data removed]"
          },
          "metadata": {}
        }
      ]
    },
    {
      "cell_type": "markdown",
      "source": [
        "Создадим **2_NN** граф вершины которого представляют собой реализации случайной\n",
        "\n",
        "величины (в нашем случае с распределением Вейбулла с параметрами $\\space\\space k = \\frac{1}{2} ,\\space\\space\\space$$\\lambda = \\frac{1}{\\sqrt{10}}$)"
      ],
      "metadata": {
        "id": "u2aVMby3E80E"
      }
    },
    {
      "cell_type": "code",
      "source": [
        "TwoNN_Weibull = Graph(points = gen_weibull_points(7))\n",
        "\n",
        "TwoNN_Weibull.build_KNN_graph(K = 2)\n",
        "\n",
        "TwoNN_Weibull.draw()"
      ],
      "metadata": {
        "colab": {
          "base_uri": "https://localhost:8080/",
          "height": 472
        },
        "id": "wvu84hxWBxZZ",
        "outputId": "d7ba310c-5d9b-41a5-8f59-fa8fae5ac2d0"
      },
      "execution_count": 15,
      "outputs": [
        {
          "output_type": "display_data",
          "data": {
            "text/plain": [
              "<Figure size 640x480 with 1 Axes>"
            ],
            "image/png": "[encoded data removed]"
          },
          "metadata": {}
        }
      ]
    },
    {
      "cell_type": "markdown",
      "source": [
        "# **Напишем функции для подсчета характеристик.**\n",
        "\n",
        "Некоторые функции мы не будем реализовывать, потому что соответсвующие величины ищутся любо приблеженно, либо слишком медленно"
      ],
      "metadata": {
        "id": "E5y9nlgWAimo"
      }
    },
    {
      "cell_type": "code",
      "source": [
        "def calculate_min_deg(G: Graph) -> int:\n",
        "    \"\"\" Возвращает минимальную степень вершин графа \"\"\"\n",
        "    min_degree_node, min_degree = min(G.nx_obj.degree(), key=lambda x: x[1])\n",
        "    return min_degree\n",
        "\n",
        "\n",
        "def calculate_max_deg(G: Graph) -> int:\n",
        "    \"\"\" Возвращает максимальную степень вершин графа \"\"\"\n",
        "    max_degree_node, max_degree = max(G.nx_obj.degree(), key=lambda x: x[1])\n",
        "    return max_degree\n",
        "\n",
        "\n",
        "def calculate_number_component(G: Graph) -> int:\n",
        "    \"\"\" Возвращает число компонент связности графа \"\"\"\n",
        "    return nx.number_connected_components(G.nx_obj)\n",
        "\n",
        "\n",
        "def calculate_number_articul(G: Graph) -> int:\n",
        "    \"\"\" Возвращает число точек сочленения графа \"\"\"\n",
        "    return len(list(nx.articulation_points(G.nx_obj)))\n",
        "\n",
        "\n",
        "def calculate_number_triangle(G: Graph) -> int:\n",
        "    \"\"\" Возвращает число триугольников графа \"\"\"\n",
        "    triangles_dict =  nx.triangles(G.nx_obj)\n",
        "    return sum(triangles_dict.values()) // 3\n",
        "\n",
        "\n",
        "def calculate_clique_number(G: Graph) -> int:\n",
        "    \"\"\" Возвращает кликовое число графа \"\"\"\n",
        "    max_cliques = list(nx.find_cliques(G.nx_obj))\n",
        "    return max([len(clique) for clique in max_cliques])\n",
        "\n",
        "\n",
        "def calculate_maxsize_independed_set(G: Graph) -> int:\n",
        "    \"\"\" Возвращает размер максимального независемого множества \"\"\"\n",
        "    G_compl = nx.complement(G.nx_obj)\n",
        "    return calculate_clique_number(G_compl)"
      ],
      "metadata": {
        "id": "VKd8COh3AyV7"
      },
      "execution_count": 53,
      "outputs": []
    },
    {
      "cell_type": "code",
      "source": [
        "human_readable_characts = {\"calculate_min_deg\": \"Минимальная степень вершины\",\n",
        "                           \"calculate_max_deg\": \"Максимальная степень вершины\",\n",
        "                           \"calculate_number_component\": \"Количество компонент связности\",\n",
        "                           \"calculate_number_articul\": \"Количество точек сочленения\",\n",
        "                           \"calculate_number_triangle\": \"Количество треугольников\",\n",
        "                           \"calculate_clique_number\": \"Кликовое число\",\n",
        "                           \"calculate_maxsize_independed_set\": \"Размер наибольшего независимого множества\" }"
      ],
      "metadata": {
        "id": "5llcSePwddeD"
      },
      "execution_count": 58,
      "outputs": []
    },
    {
      "cell_type": "markdown",
      "source": [
        "## **Немного тестов**\n",
        "\n",
        "Считаем что мы умненькие и исследуем хорошие, непустые графы без петель и кратных ребер."
      ],
      "metadata": {
        "id": "tgAdQlFBKooo"
      }
    },
    {
      "cell_type": "markdown",
      "source": [
        "### Тесты на минимальную степень вершины"
      ],
      "metadata": {
        "id": "ip9MFcJ9LyJG"
      }
    },
    {
      "cell_type": "code",
      "source": [
        "# Тест 1: Одна вершина без ребер\n",
        "G1 = Graph([np.array([0.0])])\n",
        "assert calculate_min_deg(G1) == 0, \"Тест 1 (1 вершина без ребер) не пройден\"\n",
        "\n",
        "# Тест 2: Две вершины без ребер\n",
        "G2 = Graph([np.array([0.0]), np.array([1.0])])\n",
        "assert calculate_min_deg(G2) == 0, \"Тест 2 (2 вершины без ребер) не пройден\"\n",
        "\n",
        "# Тест 3: Две вершины с одним ребром\n",
        "G3 = Graph([np.array([0.0]), np.array([1.0])], {(0, 1)})\n",
        "assert calculate_min_deg(G3) == 1, \"Тест 3 (2 вершины с ребром) не пройден\"\n",
        "\n",
        "# Тест 4: Треугольник (все степени равны 2)\n",
        "G4 = Graph([\n",
        "    np.array([0.0]),\n",
        "    np.array([1.0]),\n",
        "    np.array([2.0])\n",
        "], {(0, 1), (1, 2), (2, 0)})\n",
        "assert calculate_min_deg(G4) == 2, \"Тест 4 (треугольник) не пройден\"\n",
        "\n",
        "# Тест 5: Граф с висячей вершиной\n",
        "G5 = Graph([\n",
        "    np.array([0.0]),\n",
        "    np.array([1.0]),\n",
        "    np.array([2.0])\n",
        "], {(0, 1), (0, 2)})\n",
        "assert calculate_min_deg(G5) == 1, \"Тест 5 (висячая вершина) не пройден\"\n",
        "\n",
        "# Тест 6: Граф с изолированной вершиной\n",
        "G6 = Graph([\n",
        "    np.array([0.0]),\n",
        "    np.array([1.0]),\n",
        "    np.array([2.0])\n",
        "], {(0, 1)})\n",
        "assert calculate_min_deg(G6) == 0, \"Тест 6 (изолированная вершина) не пройден\"\n",
        "\n",
        "# Тест 7: Граф-звезда с 4 вершинами\n",
        "G7 = Graph([\n",
        "    np.array([0.0]),\n",
        "    np.array([1.0]),\n",
        "    np.array([2.0]),\n",
        "    np.array([3.0])\n",
        "], {(0, 1), (0, 2), (0, 3)})\n",
        "assert calculate_min_deg(G7) == 1, \"Тест 7 (граф-звезда) не пройден\"\n",
        "\n",
        "# Тест 8: Граф с разными степенями вершин\n",
        "G8 = Graph([\n",
        "    np.array([0.0]),\n",
        "    np.array([1.0]),\n",
        "    np.array([2.0]),\n",
        "    np.array([3.0])\n",
        "], {(0, 1), (0, 2), (1, 2), (2, 3)})\n",
        "assert calculate_min_deg(G8) == 1, \"Тест 8 (разные степени) не пройден\"\n",
        "\n",
        "print(\"Все 8 тестов для calculate_min_deg прошли успешно!\")"
      ],
      "metadata": {
        "colab": {
          "base_uri": "https://localhost:8080/"
        },
        "id": "Od25QmnYL2P2",
        "outputId": "dc4d5d4a-6197-4cf4-85d7-ed6f48d11abb"
      },
      "execution_count": 39,
      "outputs": [
        {
          "output_type": "stream",
          "name": "stdout",
          "text": [
            "Все 8 тестов для calculate_min_deg прошли успешно!\n"
          ]
        }
      ]
    },
    {
      "cell_type": "markdown",
      "source": [
        "### Тесты на максимальную степень."
      ],
      "metadata": {
        "id": "d0UgiRX8MDMf"
      }
    },
    {
      "cell_type": "code",
      "source": [
        "# Тест 1: Одна вершина без ребер\n",
        "G1 = Graph([np.array([0.0])])\n",
        "assert calculate_max_deg(G1) == 0, \"Тест 1 (1 вершина без ребер) не пройден\"\n",
        "\n",
        "# Тест 2: Две вершины без ребер\n",
        "G2 = Graph([np.array([0.0]), np.array([1.0])])\n",
        "assert calculate_max_deg(G2) == 0, \"Тест 2 (2 вершины без ребер) не пройден\"\n",
        "\n",
        "# Тест 3: Две вершины с одним ребром\n",
        "G3 = Graph([np.array([0.0]), np.array([1.0])], {(0, 1)})\n",
        "assert calculate_max_deg(G3) == 1, \"Тест 3 (2 вершины с ребром) не пройден\"\n",
        "\n",
        "# Тест 4: Треугольник (все степени равны 2)\n",
        "G4 = Graph([\n",
        "    np.array([0.0]),\n",
        "    np.array([1.0]),\n",
        "    np.array([2.0])\n",
        "], {(0, 1), (1, 2), (2, 0)})\n",
        "assert calculate_max_deg(G4) == 2, \"Тест 4 (треугольник) не пройден\"\n",
        "\n",
        "# Тест 5: Граф с центральной вершиной\n",
        "G5 = Graph([\n",
        "    np.array([0.0]),\n",
        "    np.array([1.0]),\n",
        "    np.array([2.0])\n",
        "], {(0, 1), (0, 2)})\n",
        "assert calculate_max_deg(G5) == 2, \"Тест 5 (центральная вершина) не пройден\"\n",
        "\n",
        "# Тест 6: Граф с изолированной вершиной\n",
        "G6 = Graph([\n",
        "    np.array([0.0]),\n",
        "    np.array([1.0]),\n",
        "    np.array([2.0])\n",
        "], {(0, 1)})\n",
        "assert calculate_max_deg(G6) == 1, \"Тест 6 (изолированная вершина) не пройден\"\n",
        "\n",
        "# Тест 7: Граф-звезда с 4 вершинами\n",
        "G7 = Graph([\n",
        "    np.array([0.0]),\n",
        "    np.array([1.0]),\n",
        "    np.array([2.0]),\n",
        "    np.array([3.0])\n",
        "], {(0, 1), (0, 2), (0, 3)})\n",
        "assert calculate_max_deg(G7) == 3, \"Тест 7 (граф-звезда) не пройден\"\n",
        "\n",
        "# Тест 8: Граф с разными степенями вершин\n",
        "G8 = Graph([\n",
        "    np.array([0.0]),\n",
        "    np.array([1.0]),\n",
        "    np.array([2.0]),\n",
        "    np.array([3.0])\n",
        "], {(0, 1), (0, 2), (1, 2), (2, 3)})\n",
        "assert calculate_max_deg(G8) == 3, \"Тест 8 (разные степени) не пройден\"\n",
        "\n",
        "print(\"Все 8 тестов для calculate_max_deg прошли успешно!\")"
      ],
      "metadata": {
        "colab": {
          "base_uri": "https://localhost:8080/"
        },
        "id": "oaxV-HeBMHcH",
        "outputId": "9d4845b8-3dff-4194-d6e1-0bde0d2b7c46"
      },
      "execution_count": 40,
      "outputs": [
        {
          "output_type": "stream",
          "name": "stdout",
          "text": [
            "Все 8 тестов для calculate_max_deg прошли успешно!\n"
          ]
        }
      ]
    },
    {
      "cell_type": "markdown",
      "source": [
        "### Тесты на количество компонент связности"
      ],
      "metadata": {
        "id": "0dmupAIxLh1u"
      }
    },
    {
      "cell_type": "code",
      "source": [
        "# Тест 1: Одна вершина без ребер\n",
        "G1 = Graph([np.array([0.0])])\n",
        "assert calculate_number_component(G1) == 1, \"Тест 1 (1 вершина) не пройден\"\n",
        "\n",
        "# Тест 2: Две изолированные вершины\n",
        "G2 = Graph([np.array([0.0]), np.array([1.0])])\n",
        "assert calculate_number_component(G2) == 2, \"Тест 2 (2 изолированные вершины) не пройден\"\n",
        "\n",
        "# Тест 3: Две связанные вершины\n",
        "G3 = Graph([np.array([0.0]), np.array([1.0])], {(0, 1)})\n",
        "assert calculate_number_component(G3) == 1, \"Тест 3 (2 связанные вершины) не пройден\"\n",
        "\n",
        "# Тест 4: Три вершины, две связаны\n",
        "G4 = Graph([\n",
        "    np.array([0.0]),\n",
        "    np.array([1.0]),\n",
        "    np.array([2.0])\n",
        "], {(0, 1)})\n",
        "assert calculate_number_component(G4) == 2, \"Тест 4 (3 вершины, 2 связаны) не пройден\"\n",
        "\n",
        "# Тест 5: Треугольник (1 компонента)\n",
        "G5 = Graph([\n",
        "    np.array([0.0]),\n",
        "    np.array([1.0]),\n",
        "    np.array([2.0])\n",
        "], {(0, 1), (1, 2), (2, 0)})\n",
        "assert calculate_number_component(G5) == 1, \"Тест 5 (треугольник) не пройден\"\n",
        "\n",
        "# Тест 6: Две отдельные компоненты\n",
        "G6 = Graph([\n",
        "    np.array([0.0]),\n",
        "    np.array([1.0]),\n",
        "    np.array([2.0]),\n",
        "    np.array([3.0])\n",
        "], {(0, 1), (2, 3)})\n",
        "assert calculate_number_component(G6) == 2, \"Тест 6 (2 компоненты) не пройден\"\n",
        "\n",
        "# Тест 7: Три компоненты (1 пара и 2 одиночные)\n",
        "G7 = Graph([\n",
        "    np.array([0.0]),\n",
        "    np.array([1.0]),\n",
        "    np.array([2.0]),\n",
        "    np.array([3.0])\n",
        "], {(1, 2)})\n",
        "assert calculate_number_component(G7) == 3, \"Тест 7 (3 компоненты) не пройден\"\n",
        "\n",
        "# Тест 8: Сложная структура (3 компоненты)\n",
        "G8 = Graph([\n",
        "    np.array([0.0]),  # компонента 1 (0-1-2)\n",
        "    np.array([1.0]),\n",
        "    np.array([2.0]),\n",
        "    np.array([3.0]),  # компонента 2 (3-4)\n",
        "    np.array([4.0]),\n",
        "    np.array([5.0])   # компонента 3 (5)\n",
        "], {(0, 1), (1, 2), (3, 4)})\n",
        "assert calculate_number_component(G8) == 3, \"Тест 8 (сложная структура) не пройден\"\n",
        "\n",
        "print(\"Все 8 тестов для calculate_number_component прошли успешно!\")"
      ],
      "metadata": {
        "colab": {
          "base_uri": "https://localhost:8080/"
        },
        "id": "x9420tKAJ_29",
        "outputId": "53c02b6b-b231-40a1-8f73-a4294c94d4c5"
      },
      "execution_count": 41,
      "outputs": [
        {
          "output_type": "stream",
          "name": "stdout",
          "text": [
            "Все 8 тестов для calculate_number_component прошли успешно!\n"
          ]
        }
      ]
    },
    {
      "cell_type": "markdown",
      "source": [
        "### Тесты на количество точек сочленения"
      ],
      "metadata": {
        "id": "XHOb98ogTTzQ"
      }
    },
    {
      "cell_type": "code",
      "source": [
        "# Тест 1: Две вершины, соединенные ребром (нет точек сочленения)\n",
        "G1 = Graph([np.array([0.0]), np.array([1.0])], {(0, 1)})\n",
        "assert calculate_number_articul(G1) == 0, \"Тест 1 (2 связанные вершины) не пройден\"\n",
        "\n",
        "# Тест 2: Три вершины в цепочке (центральная - точка сочленения)\n",
        "G2 = Graph([\n",
        "    np.array([0.0]),\n",
        "    np.array([1.0]),\n",
        "    np.array([2.0])\n",
        "], {(0, 1), (1, 2)})\n",
        "assert calculate_number_articul(G2) == 1, \"Тест 2 (цепочка из 3 вершин) не пройден\"\n",
        "\n",
        "# Тест 3: Треугольник (нет точек сочленения)\n",
        "G3 = Graph([\n",
        "    np.array([0.0]),\n",
        "    np.array([1.0]),\n",
        "    np.array([2.0])\n",
        "], {(0, 1), (1, 2), (2, 0)})\n",
        "assert calculate_number_articul(G3) == 0, \"Тест 3 (треугольник) не пройден\"\n",
        "\n",
        "# Тест 4: Граф-звезда (центр - точка сочленения)\n",
        "G4 = Graph([\n",
        "    np.array([0.0]),\n",
        "    np.array([1.0]),\n",
        "    np.array([2.0]),\n",
        "    np.array([3.0])\n",
        "], {(0, 1), (0, 2), (0, 3)})\n",
        "assert calculate_number_articul(G4) == 1, \"Тест 4 (граф-звезда) не пройден\"\n",
        "\n",
        "# Тест 5: Две компоненты, каждая с точкой сочленения\n",
        "G5 = Graph([\n",
        "    np.array([0.0]),  # компонента 1 (0-1-2)\n",
        "    np.array([1.0]),\n",
        "    np.array([2.0]),\n",
        "    np.array([3.0]),  # компонента 2 (3-4-5)\n",
        "    np.array([4.0]),\n",
        "    np.array([5.0])\n",
        "], {(0, 1), (1, 2), (3, 4), (4, 5)})\n",
        "assert calculate_number_articul(G5) == 2, \"Тест 5 (2 компоненты) не пройден\"\n",
        "\n",
        "# Тест 6: Граф с двумя точками сочленения\n",
        "G6 = Graph([\n",
        "    np.array([0.0]),\n",
        "    np.array([1.0]),\n",
        "    np.array([2.0]),\n",
        "    np.array([3.0]),\n",
        "    np.array([4.0])\n",
        "], {(0, 1), (1, 2), (2, 3), (3, 4), (1, 3)})\n",
        "assert calculate_number_articul(G6) == 2, \"Тест 6 (2 точки сочленения) не пройден\"\n",
        "\n",
        "# Тест 7: Граф без точек сочленения (все вершины степени 2)\n",
        "G7 = Graph([\n",
        "    np.array([0.0]),\n",
        "    np.array([1.0]),\n",
        "    np.array([2.0]),\n",
        "    np.array([3.0])\n",
        "], {(0, 1), (1, 2), (2, 3), (3, 0)})\n",
        "assert calculate_number_articul(G7) == 0, \"Тест 7 (цикл) не пройден\"\n",
        "\n",
        "# Тест 8: Сложный граф с несколькими точками сочленения\n",
        "G8 = Graph([\n",
        "    np.array([0.0]),\n",
        "    np.array([1.0]),\n",
        "    np.array([2.0]),\n",
        "    np.array([3.0]),\n",
        "    np.array([4.0]),\n",
        "    np.array([5.0]),\n",
        "    np.array([6.0])\n",
        "], {(0, 1), (1, 2), (2, 0), (1, 3), (3, 4), (4, 5), (5, 3), (3, 6)})\n",
        "assert calculate_number_articul(G8) == 2, \"Тест 8 (сложный граф) не пройден\"\n",
        "\n",
        "print(\"Все 8 тестов для calculate_number_articul прошли успешно!\")"
      ],
      "metadata": {
        "colab": {
          "base_uri": "https://localhost:8080/"
        },
        "id": "bh-LFIvJTbmB",
        "outputId": "0ee842e2-1aeb-4d46-9162-874250bf0769"
      },
      "execution_count": 42,
      "outputs": [
        {
          "output_type": "stream",
          "name": "stdout",
          "text": [
            "Все 8 тестов для calculate_number_articul прошли успешно!\n"
          ]
        }
      ]
    },
    {
      "cell_type": "markdown",
      "source": [
        "### Тесты на количество треугольников"
      ],
      "metadata": {
        "id": "9yq2PEKNTYT3"
      }
    },
    {
      "cell_type": "code",
      "source": [
        "calculate_number_triangle# Тест 1: Граф с 3 вершинами без треугольников\n",
        "G1 = Graph([np.array([0.0]), np.array([1.0]), np.array([2.0])], {(0, 1), (1, 2)})\n",
        "assert calculate_number_triangle(G1) == 0, \"Тест 1 (нет треугольников) не пройден\"\n",
        "\n",
        "# Тест 2: Один треугольник\n",
        "G2 = Graph([\n",
        "    np.array([0.0]),\n",
        "    np.array([1.0]),\n",
        "    np.array([2.0])\n",
        "], {(0, 1), (1, 2), (2, 0)})\n",
        "assert calculate_number_triangle(G2) == 1, \"Тест 2 (1 треугольник) не пройден\"\n",
        "\n",
        "# Тест 3: Два раздельных треугольника\n",
        "G3 = Graph([\n",
        "    np.array([0.0]),\n",
        "    np.array([1.0]),\n",
        "    np.array([2.0]),\n",
        "    np.array([3.0]),\n",
        "    np.array([4.0]),\n",
        "    np.array([5.0])\n",
        "], {(0, 1), (1, 2), (2, 0), (3, 4), (4, 5), (5, 3)})\n",
        "assert calculate_number_triangle(G3) == 2, \"Тест 3 (2 треугольника) не пройден\"\n",
        "\n",
        "# Тест 4: Треугольники с общей вершиной\n",
        "G4 = Graph([\n",
        "    np.array([0.0]),\n",
        "    np.array([1.0]),\n",
        "    np.array([2.0]),\n",
        "    np.array([3.0])\n",
        "], {(0, 1), (0, 2), (0, 3), (1, 2), (2, 3)})\n",
        "assert calculate_number_triangle(G4) == 2, \"Тест 4 (2 треугольника с общей вершиной) не пройден\"\n",
        "\n",
        "# Тест 5: Полный граф K4 (4 треугольника)\n",
        "G5 = Graph([\n",
        "    np.array([0.0]),\n",
        "    np.array([1.0]),\n",
        "    np.array([2.0]),\n",
        "    np.array([3.0])\n",
        "], {(0, 1), (0, 2), (0, 3), (1, 2), (1, 3), (2, 3)})\n",
        "assert calculate_number_triangle(G5) == 4, \"Тест 5 (K4 - 4 треугольника) не пройден\"\n",
        "\n",
        "# Тест 6: Граф с треугольником и дополнительными ребрами\n",
        "G6 = Graph([\n",
        "    np.array([0.0]),\n",
        "    np.array([1.0]),\n",
        "    np.array([2.0]),\n",
        "    np.array([3.0])\n",
        "], {(0, 1), (1, 2), (2, 0), (0, 3), (1, 3)})\n",
        "assert calculate_number_triangle(G6) == 2, \"Тест 6 (1 треугольник + доп. ребра) не пройден\"\n",
        "\n",
        "# Тест 7: Граф без треугольников (дерево)\n",
        "G7 = Graph([\n",
        "    np.array([0.0]),\n",
        "    np.array([1.0]),\n",
        "    np.array([2.0]),\n",
        "    np.array([3.0])\n",
        "], {(0, 1), (0, 2), (0, 3)})\n",
        "assert calculate_number_triangle(G7) == 0, \"Тест 7 (дерево) не пройден\"\n",
        "\n",
        "# Тест 8: Сложный граф с 3 треугольниками\n",
        "G8 = Graph([\n",
        "    np.array([0.0]),\n",
        "    np.array([1.0]),\n",
        "    np.array([2.0]),\n",
        "    np.array([3.0]),\n",
        "    np.array([4.0])\n",
        "], {(0, 1), (1, 2), (2, 0), (0, 3), (3, 4), (4, 0), (1, 3)})\n",
        "assert calculate_number_triangle(G8) == 3, \"Тест 8 (3 треугольника) не пройден\"\n",
        "\n",
        "print(\"Все 8 тестов для calculate_number_triangle прошли успешно!\")"
      ],
      "metadata": {
        "colab": {
          "base_uri": "https://localhost:8080/"
        },
        "id": "FBXLhJx8Tb2y",
        "outputId": "71529d77-cee9-4b1f-ec78-f15e883b3477"
      },
      "execution_count": 43,
      "outputs": [
        {
          "output_type": "stream",
          "name": "stdout",
          "text": [
            "Все 8 тестов для calculate_number_triangle прошли успешно!\n"
          ]
        }
      ]
    },
    {
      "cell_type": "markdown",
      "source": [
        "### Тесты на кликовое число"
      ],
      "metadata": {
        "id": "-9GnH8X2Qzln"
      }
    },
    {
      "cell_type": "code",
      "source": [
        "# Тест 1: Одна вершина (тривиальная клика)\n",
        "G1 = nx.Graph()\n",
        "G1.add_node(1)\n",
        "assert calculate_clique_number(G1) == 1, \"Тест 1 (1 вершина) не пройден\"\n",
        "\n",
        "# Тест 2: Две несвязанные вершины\n",
        "G2 = nx.Graph()\n",
        "G2.add_nodes_from([1, 2])\n",
        "assert calculate_clique_number(G2) == 1, \"Тест 2 (2 несвязанные вершины) не пройден\"\n",
        "\n",
        "# Тест 3: Две связанные вершины (ребро)\n",
        "G3 = nx.Graph()\n",
        "G3.add_edge(1, 2)\n",
        "assert calculate_clique_number(G3) == 2, \"Тест 3 (2 связанные вершины) не пройден\"\n",
        "\n",
        "# Тест 4: Треугольник (3 вершины, все связаны)\n",
        "G4 = nx.Graph([(1, 2), (2, 3), (3, 1)])\n",
        "assert calculate_clique_number(G4) == 3, \"Тест 4 (треугольник) не пройден\"\n",
        "\n",
        "# Тест 5: Граф с кликой размера 4\n",
        "G5 = nx.Graph([(1, 2), (1, 3), (1, 4), (2, 3), (2, 4), (3, 4)])\n",
        "assert calculate_clique_number(G5) == 4, \"Тест 5 (клика K4) не пройден\"\n",
        "\n",
        "# Тест 6: Граф с несколькими кликами разного размера\n",
        "G6 = nx.Graph([(1, 2), (2, 3), (3, 4), (1, 3), (2, 4)])\n",
        "assert calculate_clique_number(G6) == 3, \"Тест 6 (макс клика - треугольник) не пройден\"\n",
        "\n",
        "# Тест 7: \"Звезда\" (1 центральная вершина, связанная с несколькими)\n",
        "G7 = nx.Graph([(1, 2), (1, 3), (1, 4), (1, 5)])\n",
        "assert calculate_clique_number(G7) == 2, \"Тест 7 (звезда) не пройден\"\n",
        "\n",
        "# Тест 8: Граф с изолированной вершиной и кликой\n",
        "G8 = nx.Graph([(1, 2), (2, 3), (3, 1), (4, 5)])\n",
        "assert calculate_clique_number(G8) == 3, \"Тест 8 (клика + изолированные) не пройден\"\n",
        "\n",
        "print(\"Все 8 тестов для calculate_clique_number прошли успешно!\")"
      ],
      "metadata": {
        "colab": {
          "base_uri": "https://localhost:8080/"
        },
        "id": "Vg-_m1c3Q2aC",
        "outputId": "63f70665-5001-48be-9c5a-f8d34865ec78"
      },
      "execution_count": 44,
      "outputs": [
        {
          "output_type": "stream",
          "name": "stdout",
          "text": [
            "Все 8 тестов для calculate_clique_number прошли успешно!\n"
          ]
        }
      ]
    },
    {
      "cell_type": "markdown",
      "source": [
        "### Тесты на размер независимого множества"
      ],
      "metadata": {
        "id": "i_GxtBDGRbXm"
      }
    },
    {
      "cell_type": "code",
      "source": [
        "# Тест 1: Одна вершина (тривиальное независимое множество)\n",
        "G1 = nx.Graph()\n",
        "G1.add_node(1)\n",
        "assert calculate_maxsize_independed_set(G1) == 1, \"Тест 1 (1 вершина) не пройден\"\n",
        "\n",
        "# Тест 2: Две несвязанные вершины\n",
        "G2 = nx.Graph()\n",
        "G2.add_nodes_from([1, 2])\n",
        "assert calculate_maxsize_independed_set(G2) == 2, \"Тест 2 (2 несвязанные вершины) не пройден\"\n",
        "\n",
        "# Тест 3: Две связанные вершины (ребро)\n",
        "G3 = nx.Graph()\n",
        "G3.add_edge(1, 2)\n",
        "assert calculate_maxsize_independed_set(G3) == 1, \"Тест 3 (2 связанные вершины) не пройден\"\n",
        "\n",
        "# Тест 4: Треугольник (3 вершины, все связаны)\n",
        "G4 = nx.Graph([(1, 2), (2, 3), (3, 1)])\n",
        "assert calculate_maxsize_independed_set(G4) == 1, \"Тест 4 (треугольник) не пройден\"\n",
        "\n",
        "# Тест 5: Граф без треугольников (макс. независимое множество = 2)\n",
        "G5 = nx.Graph([(1, 2), (2, 3), (3, 4), (4, 5)])\n",
        "assert calculate_maxsize_independed_set(G5) == 3, \"Тест 5 (цепочка) не пройден\"\n",
        "\n",
        "# Тест 6: \"Звезда\" (1 центр + n вершин)\n",
        "G6 = nx.Graph([(1, 2), (1, 3), (1, 4), (1, 5)])\n",
        "assert calculate_maxsize_independed_set(G6) == 4, \"Тест 6 (звезда) не пройден\"\n",
        "\n",
        "# Тест 7: Решетка 2x2\n",
        "G7 = nx.Graph([(1, 2), (2, 3), (3, 4), (4, 1)])\n",
        "assert calculate_maxsize_independed_set(G7) == 2, \"Тест 7 (решетка) не пройден\"\n",
        "\n",
        "# Тест 8: Граф с изолированной вершиной и кликой\n",
        "G8 = nx.Graph([(1, 2), (2, 3), (3, 1), (4, 5)])\n",
        "assert calculate_maxsize_independed_set(G8) == 2, \"Тест 8 (клика + изолированные) не пройден\"\n",
        "\n",
        "print(\"Все 8 тестов для  calculate_maxsize_independed_set прошли успешно!\")"
      ],
      "metadata": {
        "colab": {
          "base_uri": "https://localhost:8080/"
        },
        "id": "zd0x0W5wRVot",
        "outputId": "11ad74bf-eef8-41a2-9045-c44173826ddf"
      },
      "execution_count": 45,
      "outputs": [
        {
          "output_type": "stream",
          "name": "stdout",
          "text": [
            "Все 8 тестов для  calculate_maxsize_independed_set прошли успешно!\n"
          ]
        }
      ]
    },
    {
      "cell_type": "markdown",
      "source": [
        "# **Напишем функцию для выичисления и визуализации распределения характеристики графа**\n",
        "\n",
        "Она будет использоваться в обеих частях исследования."
      ],
      "metadata": {
        "id": "Nlj2bC4_5oLV"
      }
    },
    {
      "cell_type": "code",
      "source": [
        "def evaluate(\n",
        "        num_samples: int = 420,                                 # количество реализация характеристики\n",
        "        vector_size: int = 42,                                  # размерность случайного вектора\n",
        "        gamma_k: float = GAMMA_K_0,                             # параметр k гамма-распределения\n",
        "        gamma_lambda: float = GAMMA_LAMBDA_0,                   # параметр lambda гамма-распределения\n",
        "        weibull_k: float = WEIBULL_K_0,                         # параметр k распределения Вейбулла\n",
        "        weibull_lambda: float = WEIBULL_LAMBDA_0,               # параметр lambda распределения Вейбулла\n",
        "        T_knn_foo: Callable[[Graph], int] = calculate_max_deg,  # функция вычисления характеристики для KNN графа\n",
        "        knn_num_neighbours: int = 42,                           # количество соседей KNN графа\n",
        "        T_dist_foo: Callable[[Graph], int] = calculate_max_deg, # функция вычисления характеристики для Distance графа\n",
        "        dist_max_dist: int = 4.2,                               # макисмальная длина соединения Distance графа\n",
        "        draw_distributions: bool = False                        # рисовать ли гистограммы распределения\n",
        ") -> dict[str: list]:\n",
        "    \"\"\"\n",
        "    Несколько раз симмулирует реализацию случайного вектора с некоторыми параметрами.\n",
        "    Строит по ним KNN и Distance графы с некоторыми параметрами процедуры построения,\n",
        "    вычисляет на них характеристики и визуализирует их распределение.\n",
        "    Возвращает списки получившихся характеристик.\n",
        "    \"\"\"\n",
        "    T_knn_gamma_list, T_knn_weibull_list = [], []\n",
        "    T_dist_gamma_list, T_dist_weibull_list = [], []\n",
        "\n",
        "    for i in range(num_samples):\n",
        "        gamma_sample = gen_gamma_points(vector_size, gamma_k, gamma_lambda)\n",
        "        weibull_sample = gen_weibull_points(vector_size, weibull_k, weibull_lambda)\n",
        "\n",
        "        G_knn_gamma = Graph(points = gamma_sample)\n",
        "        G_knn_gamma.build_KNN_graph(K = knn_num_neighbours)\n",
        "        T_knn_gamma_list.append(T_knn_foo(G = G_knn_gamma))\n",
        "\n",
        "        G_knn_weibull = Graph(points = weibull_sample)\n",
        "        G_knn_weibull.build_KNN_graph(K = knn_num_neighbours)\n",
        "        T_knn_weibull_list.append(T_knn_foo(G = G_knn_weibull))\n",
        "\n",
        "        G_dist_gamma = Graph(points = gamma_sample)\n",
        "        G_dist_gamma.build_dist_graph(max_dist = dist_max_dist)\n",
        "        T_dist_gamma_list.append(T_dist_foo(G = G_dist_gamma))\n",
        "\n",
        "        G_dist_weibull = Graph(points = weibull_sample)\n",
        "        G_dist_weibull.build_dist_graph(max_dist = dist_max_dist)\n",
        "        T_dist_weibull_list.append(T_dist_foo(G = G_dist_weibull))\n",
        "\n",
        "    if draw_distributions:\n",
        "        plt.figure(figsize=(16, 3))\n",
        "\n",
        "\n",
        "        plt.subplot(1, 2, 1)\n",
        "        plt.title(f\"Распределение характеристики \\'{human_readable_characts[T_knn_foo.__name__]}\\' \\nKNN граф.       \" +\n",
        "                  f\"K={knn_num_neighbours} \\n\\nWeibull( {weibull_k},  {weibull_lambda} ) \\nГ( { gamma_k},  {gamma_lambda} )\")\n",
        "        bins = np.arange(min(T_knn_gamma_list + T_knn_weibull_list), max(T_knn_gamma_list + T_knn_weibull_list) + 1, 1)\n",
        "        plt.hist(T_knn_gamma_list, bins=bins, align=\"mid\", alpha = 0.5, label=\"Гамма распределение\")\n",
        "        plt.hist(T_knn_weibull_list, bins=bins, align=\"mid\", alpha = 0.5, label=\"Распределение Вейбулла\")\n",
        "        plt.xticks(bins)\n",
        "        plt.xlabel(\"Значение характеристики\")\n",
        "        plt.ylabel(\"Количество графов\")\n",
        "        plt.legend()\n",
        "\n",
        "        plt.subplot(1, 2, 2)\n",
        "        plt.title(f\"Распределение характеристики \\'{human_readable_characts[T_dist_foo.__name__]}\\' \\nDistance граф.       \" +\n",
        "                  f\"max_distance_connected={dist_max_dist} \\n\\nWeibull( {weibull_k},  {weibull_lambda} ) \\nГ( { gamma_k},  {gamma_lambda} ) \")\n",
        "        bins = np.arange(min(T_dist_gamma_list + T_dist_weibull_list), max(T_dist_gamma_list + T_dist_weibull_list) + 1, 1)\n",
        "        plt.hist(T_dist_gamma_list, bins=bins, align=\"mid\", alpha = 0.5, label=\"Гамма распределение\")\n",
        "        plt.hist(T_dist_weibull_list, bins=bins, align=\"mid\", alpha = 0.5, label=\"Распределение Вейбулла\")\n",
        "        plt.xticks(bins)\n",
        "        plt.xlabel(\"Значение характеристики\")\n",
        "        plt.ylabel(\"Количество графов\")\n",
        "        plt.legend()\n",
        "\n",
        "        plt.show()\n",
        "        print()\n",
        "\n",
        "    return { \"T_knn_gamma_lists\": T_knn_gamma_list,\n",
        "             \"T_knn_weibull_lists\": T_knn_weibull_list,\n",
        "             \"T_dist_gamma_lists\": T_dist_gamma_list,\n",
        "             \"T_dist_weibull_lists\": T_dist_weibull_list }"
      ],
      "metadata": {
        "id": "zZC4Tmy8qwLq"
      },
      "execution_count": 67,
      "outputs": []
    }
  ]
}